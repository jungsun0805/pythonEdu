{
 "cells": [
  {
   "cell_type": "code",
   "execution_count": 24,
   "metadata": {},
   "outputs": [
    {
     "name": "stdout",
     "output_type": "stream",
     "text": [
      "{'quick': 1, 'lazy': 1, 'jumps': 1, 'fox': 1, 'the': 3, 'dog': 1, 'brown': 1, 'over': 1}\n"
     ]
    }
   ],
   "source": [
    "def count_words(input_str):\n",
    "    str_list = input_str.lstrip().rstrip().split()\n",
    "    remove_list = list(set(str_list))\n",
    "    idx = 0\n",
    "    result_dictionary = {}\n",
    "    \n",
    "    for str in remove_list:\n",
    "        filter_list = list(filter(lambda x:x==str, remove_list))\n",
    "        cnt = 0\n",
    "        for cont in str_list:\n",
    "            if cont==filter_list[0]:\n",
    "                cnt += 1\n",
    "        result_dictionary[filter_list[0]] = cnt\n",
    "        idx += 1\n",
    "                \n",
    "    return result_dictionary\n",
    "    \n",
    "#count_words(\"the quick brown fox jumps over the lazy dog the\")\n",
    "\n",
    "user_input = input(\"문장을 입력하세요.\")\n",
    "print(count_words(user_input))\n",
    "        \n",
    "    \n"
   ]
  }
 ],
 "metadata": {
  "kernelspec": {
   "display_name": ".venv",
   "language": "python",
   "name": "python3"
  },
  "language_info": {
   "codemirror_mode": {
    "name": "ipython",
    "version": 3
   },
   "file_extension": ".py",
   "mimetype": "text/x-python",
   "name": "python",
   "nbconvert_exporter": "python",
   "pygments_lexer": "ipython3",
   "version": "3.10.6"
  }
 },
 "nbformat": 4,
 "nbformat_minor": 2
}
