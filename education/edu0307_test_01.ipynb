{
 "cells": [
  {
   "cell_type": "code",
   "execution_count": 1,
   "metadata": {},
   "outputs": [],
   "source": [
    "# 학점표시 함수\n",
    "def q01(score):\n",
    "    result = \"\"\n",
    "    if score < 0 or score > 100:\n",
    "        result = \"잘못된 점수입니다\"\n",
    "    elif score >= 90:\n",
    "        result = \"A학점\"\n",
    "    elif score >= 80:\n",
    "        result = \"B학점\"\n",
    "    elif score >= 70:\n",
    "        result = \"C학점\"\n",
    "    elif score >= 60:\n",
    "        result = \"D학점\"\n",
    "    else:\n",
    "        result = \"F학점\"\n",
    "    \n",
    "    print(result)"
   ]
  },
  {
   "cell_type": "code",
   "execution_count": 9,
   "metadata": {},
   "outputs": [
    {
     "name": "stdout",
     "output_type": "stream",
     "text": [
      "잘못된 점수입니다\n"
     ]
    }
   ],
   "source": [
    "# 점수입력\n",
    "sc = int(input())\n",
    "\n",
    "# 학점표시 함수실행\n",
    "q01(sc)"
   ]
  }
 ],
 "metadata": {
  "kernelspec": {
   "display_name": ".venv",
   "language": "python",
   "name": "python3"
  },
  "language_info": {
   "codemirror_mode": {
    "name": "ipython",
    "version": 3
   },
   "file_extension": ".py",
   "mimetype": "text/x-python",
   "name": "python",
   "nbconvert_exporter": "python",
   "pygments_lexer": "ipython3",
   "version": "3.10.6"
  }
 },
 "nbformat": 4,
 "nbformat_minor": 2
}
