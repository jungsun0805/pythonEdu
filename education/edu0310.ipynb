{
 "cells": [
  {
   "cell_type": "code",
   "execution_count": 6,
   "metadata": {},
   "outputs": [
    {
     "name": "stdout",
     "output_type": "stream",
     "text": [
      "안녕하세요.\n",
      "5\n",
      "안녕하세요, 홍길동님\n",
      "안녕하세요, 준호님\n",
      "0\n"
     ]
    }
   ],
   "source": [
    "def greet():\n",
    "    print(\"안녕하세요.\")\n",
    "    \n",
    "greet()\n",
    "\n",
    "def add(a,b):\n",
    "    return a + b\n",
    "\n",
    "result = add(1,4)\n",
    "print(result)\n",
    "\n",
    "def greet(name=\"홍길동님\"):\n",
    "    print(f\"안녕하세요, {name}\")\n",
    "\n",
    "greet()\n",
    "greet(\"준호님\")\n",
    "\n",
    "def multiply(*args):\n",
    "    result = 1\n",
    "    for num in args:\n",
    "        result *= num\n",
    "    return result\n",
    "\n",
    "print(multiply(1,2,5,12,3,5,6,3,4,6,12,4,6,7,8,0))"
   ]
  },
  {
   "cell_type": "code",
   "execution_count": 8,
   "metadata": {},
   "outputs": [
    {
     "name": "stdout",
     "output_type": "stream",
     "text": [
      "양수입니다.\n",
      "0입니다.\n",
      "음수입니다.\n",
      "로그인 실패\n",
      "로그인 성공\n"
     ]
    }
   ],
   "source": [
    "def check_number(num):\n",
    "    result = \"\"\n",
    "    if num < 0:\n",
    "        result = \"음수입니다.\" \n",
    "    elif num > 0:\n",
    "        result = \"양수입니다.\"\n",
    "    else:\n",
    "        result = \"0입니다.\"\n",
    "    return result\n",
    "\n",
    "print(check_number(1))\n",
    "print(check_number(0))\n",
    "print(check_number(-1))\n",
    "\n",
    "def login_check(id,pw):\n",
    "    result = \"\"\n",
    "    chkId = \"admin\"\n",
    "    chkPw = \"1234\"\n",
    "    if(id==chkId and pw==chkPw):\n",
    "        result = \"로그인 성공\"\n",
    "    else:\n",
    "        result = \"로그인 실패\"\n",
    "        \n",
    "    return result\n",
    "\n",
    "print(login_check(\"aaaa\",\"1234\"))\n",
    "print(login_check(\"admin\",\"1234\"))"
   ]
  },
  {
   "cell_type": "code",
   "execution_count": 12,
   "metadata": {},
   "outputs": [
    {
     "name": "stdout",
     "output_type": "stream",
     "text": [
      "23\n",
      "[2, 4, 6, 8, 10, 12, 14, 16, 18, 20, 22, 24, 26, 28, 30, 32, 34, 36, 38, 40, 42, 44, 46, 48, 50, 52, 54, 56, 58, 60, 62, 64, 66, 68, 70, 72, 74, 76, 78, 80, 82, 84, 86, 88, 90, 92, 94, 96, 98, 100]\n"
     ]
    }
   ],
   "source": [
    "def find_max(numbers):\n",
    "    max_num = numbers[0]\n",
    "    for num in numbers:\n",
    "        if max_num < num:\n",
    "            max_num = num\n",
    "    return max_num\n",
    "\n",
    "print(find_max([5,2,5,7,3,1,8,23,6,2,3,4,5]))\n",
    "\n",
    "def find_even(start, end):\n",
    "    even = []\n",
    "    for num in range(start, end+1):\n",
    "        if num % 2 == 0:\n",
    "            even.append(num)\n",
    "    return even\n",
    "\n",
    "print(find_even(1,100))"
   ]
  },
  {
   "cell_type": "code",
   "execution_count": 20,
   "metadata": {},
   "outputs": [
    {
     "name": "stdout",
     "output_type": "stream",
     "text": [
      "1개월 차: 100,000원 저축\n",
      "2개월 차: 200,000원 저축\n",
      "3개월 차: 300,000원 저축\n",
      "4개월 차: 400,000원 저축\n",
      "5개월 차: 500,000원 저축\n",
      "6개월 차: 600,000원 저축\n",
      "7개월 차: 700,000원 저축\n",
      "8개월 차: 800,000원 저축\n",
      "9개월 차: 900,000원 저축\n",
      "10개월 차: 1,000,000원 저축\n",
      "10개월만에 목표 금액 달성!\n",
      "더 큰 숫자입니다\n",
      "더 큰 숫자입니다\n",
      "더 작은 숫자입니다\n",
      "더 작은 숫자입니다\n",
      "정답니다. 4만에 맞췄습니다.\n"
     ]
    }
   ],
   "source": [
    "def saving_simulation(target_amount, monthly_saving):\n",
    "    month = 0\n",
    "    total = 0\n",
    "    while target_amount > total:\n",
    "        total += monthly_saving\n",
    "        month += 1\n",
    "        print(f\"{month}개월 차: {total:,}원 저축\")\n",
    "    return f\"{month}개월만에 목표 금액 달성!\"\n",
    "\n",
    "print(saving_simulation(1000000,100000))\n",
    "\n",
    "def guess_number(answer):\n",
    "    cnt = 0\n",
    "    guess = None\n",
    "    while guess != answer:\n",
    "        guess = int(input(\"1~100사이의 숫자를 입력하세요\"))\n",
    "        cnt += 1\n",
    "        if guess < answer:\n",
    "            print(\"더 큰 숫자입니다\")\n",
    "        else:\n",
    "            print(\"더 작은 숫자입니다\")\n",
    "    return f\"정답니다. {cnt}번만에 맞췄습니다.\"\n",
    "\n",
    "print(guess_number(53))\n",
    "    \n",
    "    \n",
    "    "
   ]
  },
  {
   "cell_type": "code",
   "execution_count": 19,
   "metadata": {},
   "outputs": [
    {
     "name": "stdout",
     "output_type": "stream",
     "text": [
      "[0.0, 0.2222222222222222, 0.3333333333333333, 0.4444444444444444, 1.0]\n"
     ]
    }
   ],
   "source": [
    "def normalize_data(numbers):\n",
    "    min_val = min(numbers)\n",
    "    max_val = max(numbers)\n",
    "    normal = []\n",
    "    \n",
    "    for num in numbers:\n",
    "        data = (num-min_val) / (max_val-min_val)\n",
    "        normal.append(data)\n",
    "        \n",
    "    return normal\n",
    "\n",
    "tmp = [10,30,40,50,100]\n",
    "print(normalize_data(tmp))"
   ]
  },
  {
   "cell_type": "code",
   "execution_count": 21,
   "metadata": {},
   "outputs": [
    {
     "name": "stdout",
     "output_type": "stream",
     "text": [
      "===== 데이터 분할 예제 =====\n",
      "전체 데이터: [1, 2, 3, 4, 5, 6, 7, 8, 9, 10]\n",
      "학습데이터: [1, 2, 3, 4, 5, 6, 7, 8]\n",
      "테스트 데이터: [9, 10]\n"
     ]
    }
   ],
   "source": [
    "def split_data(data, train_ratio=0.8):\n",
    "    train_idx = int(len(data) * train_ratio)\n",
    "    train_data = data[:train_idx]\n",
    "    test_data = data[train_idx:]\n",
    "    return train_data, test_data\n",
    "\n",
    "full_data = [1,2,3,4,5,6,7,8,9,10]\n",
    "print(\"===== 데이터 분할 예제 =====\")\n",
    "print(\"전체 데이터:\", full_data)\n",
    "train, test = split_data(full_data)\n",
    "print(\"학습데이터:\",train)\n",
    "print(\"테스트 데이터:\",test)"
   ]
  },
  {
   "cell_type": "code",
   "execution_count": 28,
   "metadata": {},
   "outputs": [
    {
     "name": "stdout",
     "output_type": "stream",
     "text": [
      "15\n",
      "15\n",
      "125\n",
      "10\n",
      "3\n",
      "홀수\n",
      "짝수\n",
      "[1, 2, 5, 9]\n",
      "[5, 2, 9, 1]\n",
      "None\n",
      "[1, 2, 5, 9]\n"
     ]
    }
   ],
   "source": [
    "multiply = lambda x, y: x*y\n",
    "\n",
    "def multiply2(x,y):\n",
    "    return x*y\n",
    "print(multiply(3,5))\n",
    "print(multiply2(3,5))\n",
    "\n",
    "square = lambda x: x**3\n",
    "print(square(5))\n",
    "\n",
    "add = lambda x,y: x + y\n",
    "print(add(4,6))\n",
    "\n",
    "minus = lambda x,y: x - y\n",
    "print(minus(7,4))\n",
    "\n",
    "check_even = lambda x: \"짝수\" if x % 2 == 0 else \"홀수\"\n",
    "print(check_even(5))\n",
    "print(check_even(4))\n",
    "\n",
    "numbers = [5,2,9,1]\n",
    "sorted_numbers = sorted(numbers,key=lambda x: x)\n",
    "print(sorted_numbers)\n",
    "print(numbers)\n",
    "\n",
    "numbers = [5,2,9,1]\n",
    "sorted_numbers = numbers.sort() #(numbers,key=lambda x: x)\n",
    "print(sorted_numbers)\n",
    "print(numbers)"
   ]
  },
  {
   "cell_type": "code",
   "execution_count": 46,
   "metadata": {},
   "outputs": [
    {
     "name": "stdout",
     "output_type": "stream",
     "text": [
      "MY_LIST길이:  8\n",
      "MY_TUPLE길이:  9\n",
      "13\n",
      "5\n"
     ]
    }
   ],
   "source": [
    "my_list = [1,2,3,4,5,6,7,8]\n",
    "print(\"MY_LIST길이: \",len(my_list))\n",
    "\n",
    "my_tuple = (1,2,3,4,5,6,7,8,10)\n",
    "print(\"MY_TUPLE길이: \",len(my_tuple))\n",
    "\n",
    "def my_len(text):\n",
    "    cnt = 0\n",
    "    for _ in text:\n",
    "        cnt += 1\n",
    "    return cnt\n",
    "\n",
    "my_str = \"Hello, world!\"\n",
    "length = my_len(my_str)\n",
    "print(length)\n",
    "\n",
    "numbers = [1,2,3,4,5]\n",
    "length_numbers = len(numbers)\n",
    "print(length_numbers)"
   ]
  },
  {
   "cell_type": "code",
   "execution_count": null,
   "metadata": {},
   "outputs": [
    {
     "name": "stdout",
     "output_type": "stream",
     "text": [
      "[2, 4, 6, 8, 10]\n",
      "[2, 4, 6, 8, 10]\n",
      "['banana', 'cherry', 'elderberry']\n",
      "['apple', 'banana', 'cherry', 'elderberry']\n"
     ]
    }
   ],
   "source": [
    "numbers = [1,2,3,4,5,6,7,8,9,10]\n",
    "\n",
    "is_even = lambda x: x%2==0\n",
    "even_numbers = list(filter(is_even,numbers))\n",
    "print(even_numbers)\n",
    "\n",
    "def is_even2(x):\n",
    "    return x%2==0\n",
    "even_numbers2 = list(filter(is_even2,numbers))\n",
    "print(even_numbers2)\n",
    "\n",
    "words = [\"apple\",\"banana\",\"cherry\",\"date\",\"elderberry\"]\n",
    "\n",
    "def is_long_word(word):\n",
    "    return len(word) > 5\n",
    "long_words = list(filter(is_long_word,words))\n",
    "print(long_words)\n",
    "\n",
    "is_long_word2 = lambda word: len(word) > 4\n",
    "long_words2 = list(filter(is_long_word2,words))\n",
    "print(long_words2)"
   ]
  },
  {
   "cell_type": "code",
   "execution_count": 56,
   "metadata": {},
   "outputs": [
    {
     "name": "stdout",
     "output_type": "stream",
     "text": [
      "[('Alice', 25), ('Bob', 30), ('Charlie', 28)]\n",
      "Alice : 25살\n",
      "Bob : 30살\n",
      "Charlie : 28살\n",
      "국어 : 90점\n",
      "영어 : 85점\n",
      "수학 : 95점\n",
      "[{'name': 'Alice', 'age': 25}, {'name': 'Bob', 'age': 30}, {'name': 'Charlie', 'age': 28}]\n"
     ]
    }
   ],
   "source": [
    "names = [\"Alice\",\"Bob\",\"Charlie\"]\n",
    "ages = [25,30,28]\n",
    "\n",
    "zipped = zip(names, ages)\n",
    "print(list(zipped))\n",
    "\n",
    "zipped = zip(names, ages)\n",
    "for name,age in zipped:\n",
    "    print(f\"{name} : {age}살\")\n",
    "    \n",
    "subjects = [\"국어\",\"영어\",\"수학\"]\n",
    "scores = [90,85,95]\n",
    "\n",
    "for subj, score in zip(subjects, scores):\n",
    "    print(f\"{subj} : {score}점\")\n",
    "    \n",
    "def create_person(name,age):\n",
    "    return {\"name\":name, \"age\":age}\n",
    "\n",
    "people = [create_person(name, age) for name, age in zip(names, ages)]\n",
    "print(people)"
   ]
  },
  {
   "cell_type": "code",
   "execution_count": 60,
   "metadata": {},
   "outputs": [
    {
     "name": "stdout",
     "output_type": "stream",
     "text": [
      "Black Pink\n",
      "['Black', 'Pink']\n",
      "['Blac', ' Pin', '']\n",
      "['Black ', 'nk']\n",
      "blackpink@gmail.com\n",
      "blackpink\n",
      "gmail.com\n"
     ]
    }
   ],
   "source": [
    "full_name = 'Black Pink'\n",
    "print(full_name)\n",
    "\n",
    "split_name = full_name.split()\n",
    "print(split_name)\n",
    "\n",
    "split_name2 = full_name.split('k')\n",
    "print(split_name2)\n",
    "\n",
    "split_name3 = full_name.split('Pi')\n",
    "print(split_name3)\n",
    "\n",
    "email = 'blackpink@gmail.com'\n",
    "print(email)\n",
    "\n",
    "split_email = email.split('@')\n",
    "print(split_email[0])\n",
    "print(split_email[1])"
   ]
  },
  {
   "cell_type": "code",
   "execution_count": 62,
   "metadata": {},
   "outputs": [
    {
     "name": "stdout",
     "output_type": "stream",
     "text": [
      "BlackPink\n",
      "BLACKPINK\n",
      "blackpink\n",
      "Blackpink\n"
     ]
    }
   ],
   "source": [
    "first_name = 'Black'\n",
    "last_name = 'Pink'\n",
    "full_name = first_name + last_name\n",
    "print(full_name)\n",
    "\n",
    "upper_name = full_name.upper()\n",
    "print(upper_name)\n",
    "\n",
    "lower_name = full_name.lower()\n",
    "print(lower_name)\n",
    "\n",
    "title_name = full_name.title()\n",
    "print(title_name)"
   ]
  },
  {
   "cell_type": "code",
   "execution_count": 69,
   "metadata": {},
   "outputs": [
    {
     "name": "stdout",
     "output_type": "stream",
     "text": [
      "Hello\n",
      "Python\n",
      "탭을\t사용한\t예시\n",
      "백슬래시는 이렇게 \\ 출력\n",
      "안녕하세요. Alice입니다. 저는 30살 입니다.\n",
      "3.14\n",
      "81\n",
      "[2, 4, 6, 8, 10]\n",
      "['APPLE', 'BANANA', 'CHERRY', 'DATE', 'ELDERBERRY']\n",
      "0 apple\n",
      "1 banana\n",
      "2 cherry\n"
     ]
    }
   ],
   "source": [
    "print(\"Hello\\nPython\")\n",
    "print(\"탭을\\t사용한\\t예시\")\n",
    "print(\"백슬래시는 이렇게 \\\\ 출력\")\n",
    "\n",
    "name = \"Alice\"\n",
    "age = 30\n",
    "\n",
    "greeting = \"안녕하세요. {}입니다. 저는 {}살 입니다.\".format(name, age)\n",
    "print(greeting)\n",
    "\n",
    "number = 3.141592\n",
    "round_number = round(number, 2)\n",
    "print(round_number)\n",
    "\n",
    "pow_number = pow(3,4)\n",
    "print(pow_number)\n",
    "\n",
    "numbers = [1,2,3,4,5]\n",
    "double_numbers = list(map(lambda x: x * 2, numbers))\n",
    "print(double_numbers)\n",
    "\n",
    "def to_upper(str):\n",
    "    return str.upper()\n",
    "\n",
    "upper_strs = list(map(to_upper,words))\n",
    "print(upper_strs)\n",
    "\n",
    "fruits = ['apple','banana','cherry']\n",
    "for index, fruit in enumerate(fruits):\n",
    "    print(index, fruit)"
   ]
  },
  {
   "cell_type": "code",
   "execution_count": 77,
   "metadata": {},
   "outputs": [
    {
     "name": "stdout",
     "output_type": "stream",
     "text": [
      "유효한 숫자를 입력하새요.\n",
      "반드시 실행\n"
     ]
    }
   ],
   "source": [
    "try:\n",
    "    num = int(input(\"숫자를 입력하세요: \"))\n",
    "    print(num)\n",
    "except ValueError:\n",
    "    print(\"유효한 숫자를 입력하새요.\")\n",
    "else:\n",
    "    print(\"정상적으로 입력되었습니다.\")\n",
    "finally:\n",
    "    print(\"반드시 실행\")"
   ]
  },
  {
   "cell_type": "code",
   "execution_count": 82,
   "metadata": {},
   "outputs": [
    {
     "name": "stdout",
     "output_type": "stream",
     "text": [
      "c:\\pythonEdu\n",
      "['human.txt']\n"
     ]
    }
   ],
   "source": [
    "with open(\"dataset/human.txt\", 'a') as f:\n",
    "    f.write(\"안녕하세요. 홍길동입니다.\\n\")\n",
    "    f.write(\"파이썬 With문 예시입니다12341234.\\n\")\n",
    "    \n",
    "import os\n",
    "print(os.getcwd())\n",
    "print(os.listdir(\"dataset\"))"
   ]
  },
  {
   "cell_type": "code",
   "execution_count": null,
   "metadata": {},
   "outputs": [],
   "source": []
  }
 ],
 "metadata": {
  "kernelspec": {
   "display_name": ".venv",
   "language": "python",
   "name": "python3"
  },
  "language_info": {
   "codemirror_mode": {
    "name": "ipython",
    "version": 3
   },
   "file_extension": ".py",
   "mimetype": "text/x-python",
   "name": "python",
   "nbconvert_exporter": "python",
   "pygments_lexer": "ipython3",
   "version": "3.10.6"
  }
 },
 "nbformat": 4,
 "nbformat_minor": 2
}
