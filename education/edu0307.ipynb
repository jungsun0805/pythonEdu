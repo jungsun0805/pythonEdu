{
 "cells": [
  {
   "cell_type": "markdown",
   "metadata": {},
   "source": [
    "#### 변수"
   ]
  },
  {
   "cell_type": "code",
   "execution_count": null,
   "metadata": {},
   "outputs": [],
   "source": [
    "int1 = 10\n",
    "int2 = -20\n",
    "float1 = 3.14\n",
    "float2 = -2.718\n",
    "str1 = 'Hello'\n",
    "str2 = \"Python\"\n",
    "str3 = '''This is\n",
    "a multi=line\n",
    "string'''\n",
    "str4 = \" Hello World    \"\n",
    "strs1 = str3.split('\\n')\n",
    "join_str = ' '.join(strs1)\n",
    "name = \"Alice\"\n",
    "age = 30\n",
    "t = True\n",
    "f = False\n",
    "empty_lst = []\n",
    "ints1 = [1,2,3,4,5,6,7,8,9]\n",
    "fruits = [\"apple\",\"banana\",\"cherry\",\"orange\",\"melon\"]\n",
    "my_tuple = (1,2,3,4,5)\n",
    "color_tuple = (\"red\",\"green\",\"blue\",\"yellow\",\"orange\",\"skyblue\",\"white\",\"black\")\n",
    "color_tuple2 = (1,2,3,2,4,2,2,4,5,6,1,23,3,45,123,5,8)\n",
    "point = (3,4)\n",
    "dict_person = {\"name\":\"Bob\",\"age\":30,\"city\":\"New York\"}\n",
    "dict_info = {\"name\":\"Charlie\",\"age\":22}"
   ]
  },
  {
   "cell_type": "markdown",
   "metadata": {},
   "source": [
    "#### 출력"
   ]
  },
  {
   "cell_type": "code",
   "execution_count": 159,
   "metadata": {},
   "outputs": [
    {
     "name": "stdout",
     "output_type": "stream",
     "text": [
      "비밀번호가 틀렸습니다.\n",
      "비밀번호가 틀렸습니다.\n",
      "비밀번호가 틀렸습니다.\n",
      "비밀번호 입력 횟수를 초과했습니다.(3회)\n"
     ]
    }
   ],
   "source": [
    "password = \"password123\"\n",
    "attempt = 0\n",
    "failCnt = 0\n",
    "while attempt < 3:\n",
    "    user_password = input(\"비밀번호를 입력하세요: \")\n",
    "    attempt += 1\n",
    "    if user_password == password:\n",
    "        print(\"비밀번호가 일치합니다.\")\n",
    "        break\n",
    "    else:\n",
    "        failCnt += 1\n",
    "        print(\"비밀번호가 틀렸습니다.\")\n",
    "if failCnt == 3:\n",
    "    print(\"비밀번호 입력 횟수를 초과했습니다.(3회)\")"
   ]
  },
  {
   "cell_type": "code",
   "execution_count": 147,
   "metadata": {},
   "outputs": [
    {
     "name": "stdout",
     "output_type": "stream",
     "text": [
      "안녕하세요, 박정선님!\n",
      "당신의 나이는 38살 입니다.\n"
     ]
    }
   ],
   "source": [
    "name = input(\"이름을 입력하세요: \")\n",
    "print(f\"안녕하세요, {name}님!\")\n",
    "\n",
    "age = input(\"나이를 입력하세요: \")\n",
    "age = int(age)\n",
    "print(f\"당신의 나이는 {age}살 입니다.\")"
   ]
  },
  {
   "cell_type": "code",
   "execution_count": 145,
   "metadata": {},
   "outputs": [
    {
     "name": "stdout",
     "output_type": "stream",
     "text": [
      "5\n",
      "4\n",
      "3\n",
      "2\n",
      "1\n",
      "종료\n",
      "1\n",
      "7\n",
      "11\n",
      "13\n",
      "17\n",
      "19\n",
      "23\n",
      "29\n",
      "31\n",
      "37\n",
      "41\n",
      "43\n",
      "47\n",
      "49\n",
      "53\n",
      "59\n",
      "61\n",
      "67\n",
      "71\n",
      "73\n",
      "77\n",
      "79\n",
      "83\n",
      "89\n",
      "91\n",
      "97\n"
     ]
    }
   ],
   "source": [
    "x = 5\n",
    "while x > 0:\n",
    "    print(x)\n",
    "    x -= 1\n",
    "else:\n",
    "    print(\"종료\")\n",
    "\n",
    "n = 0\n",
    "while n < 100:\n",
    "    n += 1\n",
    "    if n % 3 == 0 or n % 2 == 0 or n % 5 == 0:\n",
    "        continue\n",
    "    print(n)\n",
    "    if n == 100:\n",
    "        break"
   ]
  },
  {
   "cell_type": "code",
   "execution_count": 136,
   "metadata": {},
   "outputs": [
    {
     "name": "stdout",
     "output_type": "stream",
     "text": [
      "Count: 0\n",
      "Count: 1\n",
      "Count: 2\n",
      "Count: 3\n",
      "Count: 4\n"
     ]
    }
   ],
   "source": [
    "count = 0\n",
    "while count < 5:\n",
    "    print(f\"Count: {count}\")\n",
    "    count += 1\n",
    "    \n",
    "while True:\n",
    "    user_input = input(\"종료하려면 'exit' 입력: \")\n",
    "    if user_input == \"exit\":\n",
    "        break"
   ]
  },
  {
   "cell_type": "code",
   "execution_count": null,
   "metadata": {},
   "outputs": [
    {
     "name": "stdout",
     "output_type": "stream",
     "text": [
      "i:1, j:1\n",
      "i:1, j:2\n",
      "i:2, j:1\n",
      "i:2, j:2\n",
      "i:3, j:1\n",
      "i:3, j:2\n",
      "인덱스 0: A\n",
      "인덱스 1: B\n",
      "인덱스 2: C\n"
     ]
    },
    {
     "ename": "TypeError",
     "evalue": "list.count() takes exactly one argument (0 given)",
     "output_type": "error",
     "traceback": [
      "\u001b[1;31m---------------------------------------------------------------------------\u001b[0m",
      "\u001b[1;31mTypeError\u001b[0m                                 Traceback (most recent call last)",
      "Cell \u001b[1;32mIn[134], line 9\u001b[0m\n\u001b[0;32m      6\u001b[0m \u001b[38;5;28;01mfor\u001b[39;00m idx, item \u001b[38;5;129;01min\u001b[39;00m \u001b[38;5;28menumerate\u001b[39m(items):\n\u001b[0;32m      7\u001b[0m     \u001b[38;5;28mprint\u001b[39m(\u001b[38;5;124mf\u001b[39m\u001b[38;5;124m\"\u001b[39m\u001b[38;5;124m인덱스 \u001b[39m\u001b[38;5;132;01m{\u001b[39;00midx\u001b[38;5;132;01m}\u001b[39;00m\u001b[38;5;124m: \u001b[39m\u001b[38;5;132;01m{\u001b[39;00mitem\u001b[38;5;132;01m}\u001b[39;00m\u001b[38;5;124m\"\u001b[39m)\n\u001b[1;32m----> 9\u001b[0m \u001b[38;5;28mprint\u001b[39m(\u001b[43mints1\u001b[49m\u001b[38;5;241;43m.\u001b[39;49m\u001b[43mcount\u001b[49m\u001b[43m(\u001b[49m\u001b[43m)\u001b[49m)\n",
      "\u001b[1;31mTypeError\u001b[0m: list.count() takes exactly one argument (0 given)"
     ]
    }
   ],
   "source": [
    "for i in range(1,4):\n",
    "    for j in range(1,3):\n",
    "        print(f\"i:{i}, j:{j}\")\n",
    "        \n",
    "items = [\"A\",\"B\",\"C\"]\n",
    "for idx, item in enumerate(items):\n",
    "    print(f\"인덱스 {idx}: {item}\")"
   ]
  },
  {
   "cell_type": "code",
   "execution_count": 125,
   "metadata": {},
   "outputs": [
    {
     "name": "stdout",
     "output_type": "stream",
     "text": [
      "합격\n",
      "홀수\n",
      "A학점\n",
      "False\n",
      "True\n"
     ]
    }
   ],
   "source": [
    "score = 90\n",
    "if score > 80:\n",
    "    print(\"합격\")\n",
    "    \n",
    "number = 3\n",
    "if number % 2 == 0:\n",
    "    print(\"짝수\")\n",
    "else:\n",
    "    print(\"홀수\")\n",
    "    \n",
    "if score >= 90:\n",
    "    print(\"A학점\")\n",
    "elif score >= 80:\n",
    "    print(\"B학점\")\n",
    "else:\n",
    "    print(\"C학점\")\n",
    "    \n",
    "x, y = 10, 20\n",
    "if x > 5 and y > 30:\n",
    "    print(True)#\n",
    "else:\n",
    "    print(False)\n",
    "    \n",
    "if x > 5 or y < 30:\n",
    "    print(True)\n",
    "else:\n",
    "    print(False)"
   ]
  },
  {
   "cell_type": "code",
   "execution_count": 113,
   "metadata": {},
   "outputs": [
    {
     "name": "stdout",
     "output_type": "stream",
     "text": [
      "Bob\n",
      "31\n",
      "Charlie\n",
      "dict_keys(['name', 'age'])\n",
      "dict_values(['Charlie', 22])\n",
      "dict_items([('name', 'Charlie'), ('age', 22)])\n",
      "dict_items([('name', 'Charlie'), ('age', 22)])\n"
     ]
    }
   ],
   "source": [
    "print(dict_person[\"name\"])\n",
    "dict_person[\"age\"]=31\n",
    "print(dict_person[\"age\"])\n",
    "\n",
    "print(dict_info.get(\"name\"))\n",
    "print(dict_info.keys())\n",
    "print(dict_info.values())\n",
    "print(dict_info.items())"
   ]
  },
  {
   "cell_type": "code",
   "execution_count": 101,
   "metadata": {},
   "outputs": [
    {
     "name": "stdout",
     "output_type": "stream",
     "text": [
      "skyblue\n",
      "('red', 'blue', 'orange', 'white')\n",
      "('green', 'yellow', 'skyblue')\n",
      "('green', 'yellow', 'skyblue', 'black')\n",
      "4\n",
      "2\n",
      "X 좌표 :  3\n",
      "y 좌표 :  4\n"
     ]
    }
   ],
   "source": [
    "print(color_tuple[5])\n",
    "print(color_tuple[:-1:2])\n",
    "print(color_tuple[1:-1:2])\n",
    "print(color_tuple[1::2])\n",
    "\n",
    "print(color_tuple2.count(2))\n",
    "print(color_tuple2.index(3))\n",
    "\n",
    "print(\"X 좌표 : \",point[0])\n",
    "print(\"y 좌표 : \",point[1])"
   ]
  },
  {
   "cell_type": "code",
   "execution_count": 87,
   "metadata": {},
   "outputs": [
    {
     "name": "stdout",
     "output_type": "stream",
     "text": [
      "[1, 2, 3, 4, 5, 6, 7, 8, 9, 13, 12, 11, 10, 3, 4]\n",
      "[1, 2, 3, 3, 4, 4, 5, 6, 7, 8, 9, 10, 11, 12, 13]\n",
      "[1, 2, 3, 3, 4, 5, 6, 7, 8, 9, 10, 11, 12, 13]\n",
      "[1, 2, 3, 3, 5, 6, 7, 8, 9, 10, 11, 12, 13]\n",
      "4\n",
      "[13, 12, 11, 10, 9, 8, 7, 6, 5, 3, 3, 2, 1]\n",
      "2\n",
      "[13, 12, 11, 10, 9, 8, 7, 6, 5, 3, 3, 2, 1]\n",
      "[13, 12, 11, 10, 9, 8, 7, 6, 5, 3, 3, 2, 1, 6, 7, 8]\n",
      "[13, 12, 11, 10, 9, 8, 7, 6, 5, 3, 3, 2, 1, 13, 12, 11, 10, 9, 8, 7, 6, 5, 3, 3, 2, 1, 6, 7, 8]\n"
     ]
    }
   ],
   "source": [
    "ints2 = [1,2,3,4,5,6,7,8,9]\n",
    "ints2.append(13)\n",
    "ints2.append(12)\n",
    "ints2.append(11)\n",
    "ints2.append(10)\n",
    "ints2.append(3)\n",
    "ints2.append(4)\n",
    "print(ints2)\n",
    "\n",
    "ints2.sort()\n",
    "print(ints2)\n",
    "\n",
    "ints2.remove(4)\n",
    "print(ints2)\n",
    "\n",
    "int3 = ints2.pop(4)\n",
    "print(ints2)\n",
    "print(int3)\n",
    "\n",
    "ints2.reverse()\n",
    "print(ints2)\n",
    "\n",
    "cnt = ints2.count(3)\n",
    "print(cnt)\n",
    "\n",
    "copy_ints2 = ints2.copy()\n",
    "print(copy_ints2)\n",
    "\n",
    "ints2.extend([6,7,8])\n",
    "print(ints2)\n",
    "\n",
    "combined_ints2 = copy_ints2 + ints2\n",
    "print(combined_ints2)\n"
   ]
  },
  {
   "cell_type": "code",
   "execution_count": 64,
   "metadata": {},
   "outputs": [
    {
     "name": "stdout",
     "output_type": "stream",
     "text": [
      "['apple', 'cherry']\n",
      "[1, 4, 7]\n"
     ]
    }
   ],
   "source": [
    "print(fruits[0:4:2])\n",
    "print(ints1[0:-2:3])"
   ]
  },
  {
   "cell_type": "code",
   "execution_count": 62,
   "metadata": {},
   "outputs": [
    {
     "name": "stdout",
     "output_type": "stream",
     "text": [
      "False\n",
      "True\n",
      "False\n",
      "거부\n",
      "허용\n",
      "거부\n",
      "허용\n"
     ]
    }
   ],
   "source": [
    "print(t and f)\n",
    "print(t or f)\n",
    "print(not t)\n",
    "\n",
    "if t and f:\n",
    "    print(\"허용\")\n",
    "else:\n",
    "    print(\"거부\")\n",
    "    \n",
    "if t or f:\n",
    "    print(\"허용\")\n",
    "else:\n",
    "    print(\"거부\")\n",
    "    \n",
    "if not t:\n",
    "    print(\"허용\")\n",
    "else:\n",
    "    print(\"거부\")\n",
    "    \n",
    "if not f:\n",
    "    print(\"허용\")\n",
    "else:\n",
    "    print(\"거부\")"
   ]
  },
  {
   "cell_type": "code",
   "execution_count": 53,
   "metadata": {},
   "outputs": [
    {
     "name": "stdout",
     "output_type": "stream",
     "text": [
      "Hello\n",
      "Python\n",
      "탭을\t사용한\t예시\n",
      "백슬래시는 이렇게 \\ 출력\n"
     ]
    }
   ],
   "source": [
    "print(\"Hello\\nPython\")\n",
    "print(\"탭을\\t사용한\\t예시\")\n",
    "print(\"백슬래시는 이렇게 \\\\ 출력\")"
   ]
  },
  {
   "cell_type": "code",
   "execution_count": 50,
   "metadata": {},
   "outputs": [
    {
     "name": "stdout",
     "output_type": "stream",
     "text": [
      "My name is Alice and I am 30 years old.\n",
      "제 이름은 Alice이고 30살 입니다.\n",
      "My name us Alice and I am 30 years old.\n"
     ]
    }
   ],
   "source": [
    "print(f\"My name is {name} and I am {age} years old.\")\n",
    "print(f\"제 이름은 {name}이고 {age}살 입니다.\")\n",
    "\n",
    "txt = \"My name us %s and I am %d years old.\" %(name,age)\n",
    "print(txt)"
   ]
  },
  {
   "cell_type": "code",
   "execution_count": 45,
   "metadata": {},
   "outputs": [
    {
     "name": "stdout",
     "output_type": "stream",
     "text": [
      "['This is', 'a multi=line', 'string']\n",
      "This is a multi=line string\n"
     ]
    }
   ],
   "source": [
    "print(strs1)\n",
    "print(join_str)"
   ]
  },
  {
   "cell_type": "code",
   "execution_count": 42,
   "metadata": {},
   "outputs": [
    {
     "name": "stdout",
     "output_type": "stream",
     "text": [
      " Hello World    \n",
      "Hello World    \n",
      " Hello World\n",
      "Hello World\n"
     ]
    }
   ],
   "source": [
    "print(str4)\n",
    "print(str4.lstrip())\n",
    "print(str4.rstrip())\n",
    "print(str4.strip())"
   ]
  },
  {
   "cell_type": "code",
   "execution_count": null,
   "metadata": {},
   "outputs": [],
   "source": [
    "print(str3.find('\\n'))\n",
    "print(str3.count('i'))"
   ]
  },
  {
   "cell_type": "code",
   "execution_count": null,
   "metadata": {},
   "outputs": [],
   "source": [
    "str1.upper()\n",
    "str2.lower()\n",
    "print(str1.upper())\n",
    "print(str2.lower())"
   ]
  },
  {
   "cell_type": "code",
   "execution_count": null,
   "metadata": {},
   "outputs": [],
   "source": [
    "print(str2[2])\n",
    "print(str2[-4])\n",
    "print(str2[1:-1])\n",
    "print(str3[1:20:4])"
   ]
  },
  {
   "cell_type": "code",
   "execution_count": null,
   "metadata": {},
   "outputs": [],
   "source": [
    "print(int1)\n",
    "print(int2)\n",
    "print(float1)\n",
    "print(float2)\n",
    "print(str1)\n",
    "print(str2)\n",
    "print(str3)"
   ]
  },
  {
   "cell_type": "markdown",
   "metadata": {},
   "source": [
    "#### 예제"
   ]
  },
  {
   "cell_type": "code",
   "execution_count": 8,
   "metadata": {},
   "outputs": [
    {
     "name": "stdout",
     "output_type": "stream",
     "text": [
      "30\n",
      "-10\n",
      "200\n",
      "0.5\n"
     ]
    }
   ],
   "source": [
    "a = 10\n",
    "b = 20\n",
    "\n",
    "print(a+b)\n",
    "print(a-b)\n",
    "print(a*b)\n",
    "print(a/b)"
   ]
  },
  {
   "cell_type": "code",
   "execution_count": 68,
   "metadata": {},
   "outputs": [
    {
     "name": "stdout",
     "output_type": "stream",
     "text": [
      "[1, 2, 3, 10, 5]\n"
     ]
    }
   ],
   "source": [
    "list_numbers = [1,2,3,4,5]\n",
    "list_numbers[-2] = 10\n",
    "\n",
    "print(list_numbers)"
   ]
  },
  {
   "cell_type": "code",
   "execution_count": 3,
   "metadata": {},
   "outputs": [
    {
     "name": "stdout",
     "output_type": "stream",
     "text": [
      "True\n",
      "False\n",
      "7\n"
     ]
    }
   ],
   "source": [
    "data = [True, True, False]\n",
    "print(any(data))\n",
    "print(all(data))\n",
    "print(abs(-7))"
   ]
  }
 ],
 "metadata": {
  "kernelspec": {
   "display_name": ".venv",
   "language": "python",
   "name": "python3"
  },
  "language_info": {
   "codemirror_mode": {
    "name": "ipython",
    "version": 3
   },
   "file_extension": ".py",
   "mimetype": "text/x-python",
   "name": "python",
   "nbconvert_exporter": "python",
   "pygments_lexer": "ipython3",
   "version": "3.10.6"
  }
 },
 "nbformat": 4,
 "nbformat_minor": 2
}
