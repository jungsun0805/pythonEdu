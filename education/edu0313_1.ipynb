{
 "cells": [
  {
   "cell_type": "code",
   "execution_count": 1,
   "metadata": {},
   "outputs": [
    {
     "name": "stderr",
     "output_type": "stream",
     "text": [
      "c:\\pythonEdu\\.venv\\lib\\site-packages\\tqdm\\auto.py:21: TqdmWarning: IProgress not found. Please update jupyter and ipywidgets. See https://ipywidgets.readthedocs.io/en/stable/user_install.html\n",
      "  from .autonotebook import tqdm as notebook_tqdm\n"
     ]
    },
    {
     "name": "stdout",
     "output_type": "stream",
     "text": [
      "<class 'pandas.core.frame.DataFrame'>\n",
      "RangeIndex: 768 entries, 0 to 767\n",
      "Data columns (total 9 columns):\n",
      " #   Column                    Non-Null Count  Dtype  \n",
      "---  ------                    --------------  -----  \n",
      " 0   Pregnancies               768 non-null    int64  \n",
      " 1   Glucose                   768 non-null    int64  \n",
      " 2   BloodPressure             768 non-null    int64  \n",
      " 3   SkinThickness             768 non-null    int64  \n",
      " 4   Insulin                   768 non-null    float64\n",
      " 5   BMI                       768 non-null    float64\n",
      " 6   DiabetesPedigreeFunction  768 non-null    float64\n",
      " 7   Age                       768 non-null    float64\n",
      " 8   Outcome                   768 non-null    float64\n",
      "dtypes: float64(5), int64(4)\n",
      "memory usage: 54.1 KB\n",
      "None\n"
     ]
    },
    {
     "name": "stderr",
     "output_type": "stream",
     "text": [
      "Summarize dataset: 100%|██████████| 82/82 [00:07<00:00, 11.17it/s, Completed]                                                 \n",
      "Generate report structure: 100%|██████████| 1/1 [00:02<00:00,  2.66s/it]\n",
      "Render HTML: 100%|██████████| 1/1 [00:02<00:00,  2.76s/it]\n",
      "Export report to file: 100%|██████████| 1/1 [00:00<00:00, 38.48it/s]\n"
     ]
    }
   ],
   "source": [
    "import os\n",
    "import pandas as pd\n",
    "from ydata_profiling import ProfileReport\n",
    "\n",
    "file_path = 'dataset/diabetes.csv'\n",
    "df = pd.read_csv(file_path)\n",
    "\n",
    "df.fillna(df.mean(),inplace=True)\n",
    "\n",
    "print(df.info())\n",
    "\n",
    "profile = ProfileReport(df, title=\"Diabetes Dataset Profiling Report\", explorative=True)\n",
    "output_file = \"report/report2.html\"\n",
    "profile.to_file(output_file)"
   ]
  }
 ],
 "metadata": {
  "kernelspec": {
   "display_name": ".venv",
   "language": "python",
   "name": "python3"
  },
  "language_info": {
   "codemirror_mode": {
    "name": "ipython",
    "version": 3
   },
   "file_extension": ".py",
   "mimetype": "text/x-python",
   "name": "python",
   "nbconvert_exporter": "python",
   "pygments_lexer": "ipython3",
   "version": "3.10.6"
  }
 },
 "nbformat": 4,
 "nbformat_minor": 2
}
