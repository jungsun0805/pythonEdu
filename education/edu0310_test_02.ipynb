{
 "cells": [
  {
   "cell_type": "code",
   "execution_count": 18,
   "metadata": {},
   "outputs": [
    {
     "name": "stdout",
     "output_type": "stream",
     "text": [
      "결과:  3.0\n"
     ]
    }
   ],
   "source": [
    "# 두개의 숫자를 입력 받고 사칙연산 중 하나를 선ㄴ택하여 결과를 반환하는 함수생성\n",
    "# 입력 오류\n",
    "def calculate(num1, num2, operator):\n",
    "    result = 0.0;\n",
    "    chk_oper = [\"+\",\"-\",\"*\",\"/\"]\n",
    "    if operator in chk_oper:\n",
    "        if operator == \"+\":\n",
    "            return num1 + num2\n",
    "        elif operator == \"-\":\n",
    "            return num1 - num2\n",
    "        elif operator == \"*\":\n",
    "            return num1 * num2\n",
    "        else:\n",
    "            try:\n",
    "                return num1 / num2\n",
    "            except ZeroDivisionError:\n",
    "                print(\"Division by zero\")\n",
    "    else:\n",
    "        try:\n",
    "            chk_oper[4]\n",
    "        except IndexError:\n",
    "            print(\"Invalid operator\")\n",
    "        \n",
    "cal_result = 0.0     \n",
    "try:\n",
    "    num_1 = float(input(\"첫 번째 숫자를 입력하세요: \"))\n",
    "    num_2 = float(input(\"두 번째 숫자를 입력하세요: \"))\n",
    "    operator = input(\"연산자를 선택하세요 (+, -, *, /): \")\n",
    "except ValueError:\n",
    "    print(\"숫자를 입력하세요.\")\n",
    "else:\n",
    "    cal_result = calculate(num_1,num_2,operator)\n",
    "    if cal_result != None:\n",
    "        # 결과메세지 출력\n",
    "        print(\"결과: \",cal_result)"
   ]
  }
 ],
 "metadata": {
  "kernelspec": {
   "display_name": ".venv",
   "language": "python",
   "name": "python3"
  },
  "language_info": {
   "codemirror_mode": {
    "name": "ipython",
    "version": 3
   },
   "file_extension": ".py",
   "mimetype": "text/x-python",
   "name": "python",
   "nbconvert_exporter": "python",
   "pygments_lexer": "ipython3",
   "version": "3.10.6"
  }
 },
 "nbformat": 4,
 "nbformat_minor": 2
}
