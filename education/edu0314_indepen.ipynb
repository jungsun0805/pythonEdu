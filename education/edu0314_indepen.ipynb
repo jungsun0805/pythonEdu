{
 "cells": [
  {
   "cell_type": "code",
   "execution_count": 19,
   "metadata": {},
   "outputs": [
    {
     "name": "stdout",
     "output_type": "stream",
     "text": [
      "3266\n",
      "24.9900\n",
      "266.1669\n",
      "0.9802\n"
     ]
    },
    {
     "name": "stderr",
     "output_type": "stream",
     "text": [
      "c:\\pythonEdu\\.venv\\lib\\site-packages\\sklearn\\utils\\validation.py:2739: UserWarning: X does not have valid feature names, but LinearRegression was fitted with feature names\n",
      "  warnings.warn(\n"
     ]
    }
   ],
   "source": [
    "import numpy as np\n",
    "import pandas as pd\n",
    "from sklearn.linear_model import LinearRegression\n",
    "from sklearn.model_selection import train_test_split\n",
    "from sklearn.metrics import r2_score\n",
    "\n",
    "df = pd.DataFrame({\n",
    "    'size':[50,80,100,150,200],\n",
    "    'rooms':[2,3,3,4,5],\n",
    "    'price':[1500,2300,2800,4000,5000]\n",
    "})\n",
    "\n",
    "X = df.drop('price',axis=1)\n",
    "y = df['price']\n",
    "\n",
    "X_train, X_test, y_train, y_test = train_test_split(X,y,test_size=0.4,random_state=42)\n",
    "model = LinearRegression()\n",
    "model.fit(X_train,y_train)\n",
    "\n",
    "y_pred = model.predict(X_test)\n",
    "\n",
    "new_data = np.array([[120,3]])\n",
    "predicton = model.predict(new_data)\n",
    "print(f\"{predicton[0]:.0f}\")\n",
    "print(f\"{model.coef_[0]:.4f}\")\n",
    "print(f\"{model.intercept_:.4f}\")\n",
    "print(f\"{r2_score(y_test,y_pred):.4f}\")"
   ]
  },
  {
   "cell_type": "code",
   "execution_count": 24,
   "metadata": {},
   "outputs": [
    {
     "name": "stdout",
     "output_type": "stream",
     "text": [
      "4869\n"
     ]
    },
    {
     "name": "stderr",
     "output_type": "stream",
     "text": [
      "c:\\pythonEdu\\.venv\\lib\\site-packages\\sklearn\\utils\\validation.py:2739: UserWarning: X does not have valid feature names, but LinearRegression was fitted with feature names\n",
      "  warnings.warn(\n"
     ]
    }
   ],
   "source": [
    "import numpy as np\n",
    "import pandas as pd\n",
    "from sklearn.linear_model import LinearRegression\n",
    "from sklearn.model_selection import train_test_split\n",
    "\n",
    "df = pd.DataFrame({\n",
    "    'YearsExperience':[1,2,3,4,5,6],\n",
    "    'TestScore':[50,60,70,80,90,100],\n",
    "    'InterviewScore':[60,55,65,70,75,80],\n",
    "    'Salary':[3000,3500,4000,4500,5000,5500]\n",
    "})\n",
    "\n",
    "X = df.drop('Salary',axis=1)\n",
    "y = df['Salary']\n",
    "\n",
    "X_train, X_Test, y_train, y_test = train_test_split(X,y,test_size=0.2,random_state=42)\n",
    "\n",
    "model = LinearRegression()\n",
    "model.fit(X_train, y_train)\n",
    "\n",
    "#y_pred = model.predict(X_test)\n",
    "\n",
    "new_data = np.array([[7,85,78]])\n",
    "predicton = model.predict(new_data)\n",
    "print(round(predicton[0]))"
   ]
  }
 ],
 "metadata": {
  "kernelspec": {
   "display_name": ".venv",
   "language": "python",
   "name": "python3"
  },
  "language_info": {
   "codemirror_mode": {
    "name": "ipython",
    "version": 3
   },
   "file_extension": ".py",
   "mimetype": "text/x-python",
   "name": "python",
   "nbconvert_exporter": "python",
   "pygments_lexer": "ipython3",
   "version": "3.10.6"
  }
 },
 "nbformat": 4,
 "nbformat_minor": 2
}
