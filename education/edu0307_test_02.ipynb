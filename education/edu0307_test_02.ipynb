{
 "cells": [
  {
   "cell_type": "code",
   "execution_count": 8,
   "metadata": {},
   "outputs": [
    {
     "name": "stdout",
     "output_type": "stream",
     "text": [
      "0으로 나눌수 없습니다\n",
      "잘못된 연산자 입니다.\n",
      "종료되었습니다.\n"
     ]
    }
   ],
   "source": [
    "while True:\n",
    "    num1 = input(\"첫번째 숫자를 입력해주세요(종료 q): \")\n",
    "    if num1 == \"q\":\n",
    "        print(\"종료되었습니다.\")\n",
    "        break\n",
    "    \n",
    "    if num1.isnumeric() == False:\n",
    "        print(\"잘못된 숫자입니다.\")\n",
    "        continue\n",
    "    \n",
    "    num2 = input(\"두번째 숫자를 입력해주세요(종료 q): \")\n",
    "    if num2 == \"q\":\n",
    "        print(\"종료되었습니다.\")\n",
    "        break\n",
    "    \n",
    "    if num2.isnumeric() == False:\n",
    "        print(\"잘못된 숫자입니다.\")\n",
    "        continue\n",
    "    \n",
    "    cal = input(\"연산자를 입력해주세요(종료 q): \")\n",
    "    if cal == \"q\":\n",
    "        print(\"종료되었습니다.\")\n",
    "        break\n",
    "    \n",
    "    if cal.isnumeric():\n",
    "        print(\"연산자를 입력해주세요.\")\n",
    "        continue\n",
    "    else:\n",
    "        if cal == \"+\":\n",
    "            result = float(num1)+float(num2)\n",
    "            print(f\"결과: {result}\")\n",
    "        elif cal == \"-\":\n",
    "            result = float(num1)-float(num2)\n",
    "            print(f\"결과: {result}\")\n",
    "        elif cal == \"*\":\n",
    "            result = float(num1)*float(num2)\n",
    "            print(f\"결과: {result}\")\n",
    "        elif cal == \"/\":\n",
    "            if float(num2) == 0.0:\n",
    "                print(\"0으로 나눌수 없습니다\")\n",
    "            else:\n",
    "                result = float(num1)/float(num2)\n",
    "                print(f\"결과: {result}\")\n",
    "        else:\n",
    "            print(\"잘못된 연산자 입니다.\") "
   ]
  }
 ],
 "metadata": {
  "kernelspec": {
   "display_name": ".venv",
   "language": "python",
   "name": "python3"
  },
  "language_info": {
   "codemirror_mode": {
    "name": "ipython",
    "version": 3
   },
   "file_extension": ".py",
   "mimetype": "text/x-python",
   "name": "python",
   "nbconvert_exporter": "python",
   "pygments_lexer": "ipython3",
   "version": "3.10.6"
  }
 },
 "nbformat": 4,
 "nbformat_minor": 2
}
