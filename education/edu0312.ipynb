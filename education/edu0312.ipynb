{
 "cells": [
  {
   "cell_type": "code",
   "execution_count": 1,
   "metadata": {},
   "outputs": [
    {
     "name": "stdout",
     "output_type": "stream",
     "text": [
      "바둑이가 짖습니다.\n"
     ]
    }
   ],
   "source": [
    "class Dog:\n",
    "    def __init__(self,name):\n",
    "        self.name = name\n",
    "        \n",
    "    def bark(self):\n",
    "        print(f\"{self.name}가 짖습니다.\")\n",
    "        \n",
    "my_dog = Dog(\"바둑이\")\n",
    "my_dog.bark()"
   ]
  },
  {
   "cell_type": "code",
   "execution_count": 3,
   "metadata": {},
   "outputs": [
    {
     "name": "stdout",
     "output_type": "stream",
     "text": [
      "나비\n",
      "나비가 야옹하고 웁니다\n"
     ]
    }
   ],
   "source": [
    "class Animal:\n",
    "    def __init__(self,name):\n",
    "        self.name = name\n",
    "    \n",
    "    def speak(self):\n",
    "        pass\n",
    "    \n",
    "class Cat(Animal):\n",
    "    def speak(self):\n",
    "        return f\"{self.name}가 야옹하고 웁니다\"\n",
    "    \n",
    "cat1 = Cat(\"나비\")\n",
    "print(cat1.name)\n",
    "print(cat1.speak())"
   ]
  },
  {
   "cell_type": "code",
   "execution_count": null,
   "metadata": {},
   "outputs": [
    {
     "name": "stdout",
     "output_type": "stream",
     "text": [
      "1000\n"
     ]
    },
    {
     "ename": "AttributeError",
     "evalue": "'BankAccount' object has no attribute '__balance'",
     "output_type": "error",
     "traceback": [
      "\u001b[1;31m---------------------------------------------------------------------------\u001b[0m",
      "\u001b[1;31mAttributeError\u001b[0m                            Traceback (most recent call last)",
      "Cell \u001b[1;32mIn[6], line 15\u001b[0m\n\u001b[0;32m     13\u001b[0m account\u001b[38;5;241m.\u001b[39mdeposit(\u001b[38;5;241m1000\u001b[39m)\n\u001b[0;32m     14\u001b[0m \u001b[38;5;28mprint\u001b[39m(account\u001b[38;5;241m.\u001b[39mget_balance())\n\u001b[1;32m---> 15\u001b[0m \u001b[38;5;28mprint\u001b[39m(\u001b[43maccount\u001b[49m\u001b[38;5;241;43m.\u001b[39;49m\u001b[43m__balance\u001b[49m)\n",
      "\u001b[1;31mAttributeError\u001b[0m: 'BankAccount' object has no attribute '__balance'"
     ]
    }
   ],
   "source": [
    "class BankAccount:\n",
    "    def __init__(self):\n",
    "        self.__balance = 0\n",
    "        \n",
    "    def deposit(self, amount):\n",
    "        if amount > 0:\n",
    "            self.__balance += amount\n",
    "            \n",
    "    def get_balance(self):\n",
    "        return self.__balance\n",
    "    \n",
    "account = BankAccount()\n",
    "account.deposit(1000)\n",
    "print(account.get_balance())\n",
    "print(account.__balance)"
   ]
  },
  {
   "cell_type": "code",
   "execution_count": 10,
   "metadata": {},
   "outputs": [
    {
     "name": "stdout",
     "output_type": "stream",
     "text": [
      "파이썬 고등학교\n",
      "AAA\n",
      "CCC\n",
      "3\n"
     ]
    }
   ],
   "source": [
    "class Student:\n",
    "    shool_name = \"파이썬 고등학교\"\n",
    "    student_count = 0\n",
    "    \n",
    "    def __init__(self,name):\n",
    "        self.shool_name = name\n",
    "        Student.student_count += 1\n",
    "        \n",
    "student1 = Student(\"AAA\")\n",
    "student2 = Student(\"BBB\")\n",
    "student2 = Student(\"CCC\")\n",
    "\n",
    "print(Student.shool_name)\n",
    "print(student1.shool_name)\n",
    "print(student2.shool_name)\n",
    "print(Student.student_count)"
   ]
  },
  {
   "cell_type": "code",
   "execution_count": 12,
   "metadata": {},
   "outputs": [
    {
     "name": "stdout",
     "output_type": "stream",
     "text": [
      "초기화\n",
      "30\n",
      "200\n"
     ]
    }
   ],
   "source": [
    "class Calculator:\n",
    "    def __init__(self):\n",
    "        print(\"초기화\")\n",
    "        \n",
    "    def add(self, num1, num2):\n",
    "        return num1 + num2\n",
    "    \n",
    "    def multiply(self, num1, num2):\n",
    "        return num1 * num2\n",
    "    \n",
    "calcul = Calculator()\n",
    "print(calcul.add(10,20))\n",
    "print(calcul.multiply(10,20))"
   ]
  },
  {
   "cell_type": "code",
   "execution_count": 15,
   "metadata": {},
   "outputs": [
    {
     "name": "stdout",
     "output_type": "stream",
     "text": [
      "영희의 나이는 20살\n",
      "철수의 나이는 21살\n"
     ]
    }
   ],
   "source": [
    "class Student:\n",
    "    def __init__(self, name, age):\n",
    "        self.name = name\n",
    "        self.age = age\n",
    "        \n",
    "    def display_info(self):\n",
    "        print(f\"{self.name}의 나이는 {self.age}살\")\n",
    "        \n",
    "student1 = Student(\"영희\",20)\n",
    "student2 = Student(\"철수\",21)\n",
    "\n",
    "student1.display_info()\n",
    "student2.display_info()"
   ]
  },
  {
   "cell_type": "code",
   "execution_count": 16,
   "metadata": {},
   "outputs": [
    {
     "name": "stdout",
     "output_type": "stream",
     "text": [
      "어벤져스의 할인된 가격: 19000\n"
     ]
    }
   ],
   "source": [
    "class MovieTicket:\n",
    "    def __init__(self, subject, amt):\n",
    "        self.subject = subject\n",
    "        self.amt = amt\n",
    "        \n",
    "    def discount_apply(self, discount_amt):\n",
    "        self.amt -= discount_amt\n",
    "        print(f\"{self.subject}의 할인된 가격: {self.amt}\")\n",
    "        \n",
    "ticket = MovieTicket(\"어벤져스\",20000)\n",
    "ticket.discount_apply(1000)"
   ]
  },
  {
   "cell_type": "code",
   "execution_count": 23,
   "metadata": {},
   "outputs": [
    {
     "name": "stdout",
     "output_type": "stream",
     "text": [
      "홍길동님의 계좌에 10,000 이 입금 되었습니다. 잔액 : 210,000\n",
      "잔액 부족\n",
      "홍길동님의 계좌에 20,000 원이 출금 되었습니다. 잔액 : 190,000\n"
     ]
    }
   ],
   "source": [
    "class BankAccount:\n",
    "    def __init__(self, name, bal):\n",
    "        self.name = name\n",
    "        self.bal = bal\n",
    "        \n",
    "    def deposit(self, amt):\n",
    "        self.bal += amt\n",
    "        print(f\"{self.name}님의 계좌에\",format(amt, ',d'), f\"이 입금 되었습니다. 잔액 :\",format(self.bal, ',d'))\n",
    "        \n",
    "    def withraw(self, amt):\n",
    "        if self.bal < amt:\n",
    "            print(\"잔액 부족\")\n",
    "        else:          \n",
    "            self.bal -= amt\n",
    "            print(f\"{self.name}님의 계좌에\",format(amt, ',d'), f\"원이 출금 되었습니다. 잔액 :\",format(self.bal, ',d'))\n",
    "            \n",
    "ba = BankAccount(\"홍길동\",200000)\n",
    "ba.deposit(10000)\n",
    "ba.withraw(220000)\n",
    "ba.withraw(20000)"
   ]
  },
  {
   "cell_type": "code",
   "execution_count": 24,
   "metadata": {},
   "outputs": [
    {
     "name": "stdout",
     "output_type": "stream",
     "text": [
      "브랜드: Hyundai, 모델: Sonata, 연식: 2020\n"
     ]
    }
   ],
   "source": [
    "class Car:\n",
    "    def __init__(self, brand, model, year):\n",
    "        self.brand = brand\n",
    "        self.model = model\n",
    "        self.year = year\n",
    "        \n",
    "    def display_info(self):\n",
    "        print(f\"브랜드: {self.brand}, 모델: {self.model}, 연식: {self.year}\")\n",
    "        \n",
    "car1 = Car(\"Hyundai\", \"Sonata\", 2020)\n",
    "car1.display_info()"
   ]
  }
 ],
 "metadata": {
  "kernelspec": {
   "display_name": ".venv",
   "language": "python",
   "name": "python3"
  },
  "language_info": {
   "codemirror_mode": {
    "name": "ipython",
    "version": 3
   },
   "file_extension": ".py",
   "mimetype": "text/x-python",
   "name": "python",
   "nbconvert_exporter": "python",
   "pygments_lexer": "ipython3",
   "version": "3.10.6"
  }
 },
 "nbformat": 4,
 "nbformat_minor": 2
}
